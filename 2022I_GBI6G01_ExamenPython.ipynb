{
 "cells": [
  {
   "cell_type": "markdown",
   "metadata": {
    "id": "YLfobSJdAG01"
   },
   "source": [
    "### <center><h2> INGENIERÍA EN BIOTECNOLOGÍA</h2></center>\n",
    "# <center><h1 style=\"color:red\">GBI6 - BIOINFORMÁTICA</h1></center>\n",
    "\n",
    "<img src=\"https://www.ikiam.edu.ec/img/logo-ikiam-grey.png\" width=400 height=300 />\n",
    "\n",
    "# <center><h2> Examen de Python </h2></center>\n",
    "- Alvarado Tapuy Romel Jesus\n",
    "- Grupo 1\n",
    "- 05/08/2022\n",
    "\n",
    "<table>\n",
    "  <tr>\n",
    "    <th>Nombre del dispositivo</th>\n",
    "    <th>procesador</th>\n",
    "    <th>Memoria RAM</th>\n",
    "    <th>Tipo de sistema</th>\n",
    "    <th>Sistema operativo</th>\n",
    "  </tr>\n",
    "  <tr>\n",
    "    <td>DESKTOP-E1MKDKP</td>\n",
    "    <td>Intel(R) Core(TM) i7-7500U CPU @ 2.70GHz   2.90 GHz</td>\n",
    "    <td>8,00 GB</td>\n",
    "    <td>Sistema operativo de 64 bits</td>\n",
    "    <td>Windows 11 Home</td>\n",
    "  </tr>\n",
    "</table>"
   ]
  },
  {
   "cell_type": "markdown",
   "metadata": {},
   "source": [
    "## Ejercicio 5 [2 puntos]\n",
    "\n",
    "Para algún **gen de las enzimas que intervienen en la ruta metabolica de la gluconeogenesis** ([Lista de genes por tipología](https://www.genome.jp/pathway/map00010+C00068)), realice lo siguiente: \n",
    "\n",
    "1. Una búsqueda en la página del [NCBI nucleotide](https://www.ncbi.nlm.nih.gov/nucleotide/).\n",
    "\n",
    "2. Descargue el ```Accession List``` de su búsqueda y guarde en la carpeta ```data```.\n",
    "\n",
    "3. Cargue el ```Accession List``` en este notebook y haga una descarga de las secuencias de los **quince primeros** IDs de la accesión. \n",
    "\n",
    "4. Arme un árbol filogenético para los resultados del paso 3.\n",
    "\n",
    "5. Guarde su arbol filogénetico en la carpeta ```img```\n",
    "\n",
    "5. Interprete el árbol del paso 4. "
   ]
  },
  {
   "cell_type": "code",
   "execution_count": 1,
   "metadata": {},
   "outputs": [
    {
     "name": "stdout",
     "output_type": "stream",
     "text": [
      "Requirement already satisfied: biopython in c:\\users\\dj-master\\anaconda3\\lib\\site-packages (1.79)\n",
      "Requirement already satisfied: numpy in c:\\users\\dj-master\\anaconda3\\lib\\site-packages (from biopython) (1.21.5)\n",
      "Note: you may need to restart the kernel to use updated packages.\n"
     ]
    }
   ],
   "source": [
    "pip install biopython"
   ]
  },
  {
   "cell_type": "code",
   "execution_count": 3,
   "metadata": {},
   "outputs": [],
   "source": [
    "from Bio import Phylo\n",
    "from Bio import SeqIO\n",
    "from Bio import AlignIO\n",
    "from Bio.Phylo.TreeConstruction import DistanceCalculator\n",
    "from Bio.Phylo.TreeConstruction import DistanceTreeConstructor\n",
    "from Bio import Entrez\n",
    "from Bio import SeqIO\n",
    "from Bio import GenBank \n",
    "import csv \n",
    "import re \n",
    "\n",
    "with open(\"Data/sequence.seq\", errors=\"ignore\") as file: \n",
    "    texto_1 = file.read()\n",
    "accession = texto_1.split(\"\\n\")\n",
    "Entrez.email=\"romel.alvarado@gmail.com\"\n",
    "archivo = open(\"data/sequence.txt\", \"w\")\n",
    "for i in accession[0:10]: \n",
    "    handle=Entrez.efetch(db=\"nuccore\", id=i, rettype=\"fasta\")\n",
    "    archivo.write(handle.read())"
   ]
  },
  {
   "cell_type": "code",
   "execution_count": null,
   "metadata": {},
   "outputs": [],
   "source": [
    "clustalw_exe = r\"C:\\Program Files (x86)\\ClustalW2\\clustalw2.exe\"\n",
    "clustalw_cline = ClustalwCommandline(clustalw_exe, infile = \"data/sequence.txt\")\n",
    "assert os.path.isfile(clustalw_exe), \"Clustal_W executable is missing or not found\"\n",
    "stdout, stderr = clustalw_cline()\n",
    "ali = open(\"Data/alineamiento.txt\", \"w\")"
   ]
  },
  {
   "cell_type": "code",
   "execution_count": 27,
   "metadata": {},
   "outputs": [],
   "source": [
    "from Bio import SeqIO\n",
    "from Bio import AlignIO\n",
    "from Bio import Phylo\n",
    "from Bio.Align.Applications import ClustalwCommandline\n",
    "import os"
   ]
  },
  {
   "cell_type": "code",
   "execution_count": null,
   "metadata": {},
   "outputs": [],
   "source": [
    "alignment = AlignIO.read(\"data/alineamiento.txt\", \"clustal\")\n",
    "calculator = DistanceCalculator(\"identity\")\n",
    "distance_matriz = calculator.get_distance(alignment)\n",
    "constructor = DistanceTreeConstructor(calculator)\n",
    "tree = constructor.build_tree(alignment)\n",
    "tree.rooted = True \n",
    "Phylo.draw_ascii(tree)"
   ]
  }
 ],
 "metadata": {
  "colab": {
   "name": "2021I_GBI6_3.1.ManipulaciónArchivos.ipynb",
   "provenance": []
  },
  "kernelspec": {
   "display_name": "Python 3 (ipykernel)",
   "language": "python",
   "name": "python3"
  },
  "language_info": {
   "codemirror_mode": {
    "name": "ipython",
    "version": 3
   },
   "file_extension": ".py",
   "mimetype": "text/x-python",
   "name": "python",
   "nbconvert_exporter": "python",
   "pygments_lexer": "ipython3",
   "version": "3.9.12"
  },
  "latex_envs": {
   "LaTeX_envs_menu_present": true,
   "autoclose": false,
   "autocomplete": true,
   "bibliofile": "biblio.bib",
   "cite_by": "apalike",
   "current_citInitial": 1,
   "eqLabelWithNumbers": true,
   "eqNumInitial": 1,
   "hotkeys": {
    "equation": "Ctrl-E",
    "itemize": "Ctrl-I"
   },
   "labels_anchors": false,
   "latex_user_defs": false,
   "report_style_numbering": false,
   "user_envs_cfg": false
  },
  "toc": {
   "base_numbering": 1,
   "nav_menu": {},
   "number_sections": true,
   "sideBar": true,
   "skip_h1_title": false,
   "title_cell": "Table of Contents",
   "title_sidebar": "Contents",
   "toc_cell": false,
   "toc_position": {
    "height": "calc(100% - 180px)",
    "left": "10px",
    "top": "150px",
    "width": "383.594px"
   },
   "toc_section_display": true,
   "toc_window_display": true
  },
  "toc-autonumbering": false,
  "toc-showcode": false,
  "toc-showmarkdowntxt": true,
  "varInspector": {
   "cols": {
    "lenName": 16,
    "lenType": 16,
    "lenVar": 40
   },
   "kernels_config": {
    "python": {
     "delete_cmd_postfix": "",
     "delete_cmd_prefix": "del ",
     "library": "var_list.py",
     "varRefreshCmd": "print(var_dic_list())"
    },
    "r": {
     "delete_cmd_postfix": ") ",
     "delete_cmd_prefix": "rm(",
     "library": "var_list.r",
     "varRefreshCmd": "cat(var_dic_list()) "
    }
   },
   "types_to_exclude": [
    "module",
    "function",
    "builtin_function_or_method",
    "instance",
    "_Feature"
   ],
   "window_display": false
  }
 },
 "nbformat": 4,
 "nbformat_minor": 4
}
